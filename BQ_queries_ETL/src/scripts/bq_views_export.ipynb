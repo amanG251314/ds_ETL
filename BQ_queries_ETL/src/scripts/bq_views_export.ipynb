{
 "cells": [
  {
   "cell_type": "code",
   "execution_count": null,
   "metadata": {},
   "outputs": [],
   "source": [
    "import pandas as pd\n",
    "from google.cloud import bigquery\n",
    "from tqdm import tqdm\n",
    "import sys\n",
    "import logging\n",
    "from google.cloud import bigquery_datatransfer\n",
    "from dotenv import load_dotenv\n",
    "import os\n",
    "load_dotenv()\n",
    "project_id = os.getenv('project_id')"
   ]
  },
  {
   "cell_type": "code",
   "execution_count": 3,
   "metadata": {},
   "outputs": [
    {
     "name": "stdout",
     "output_type": "stream",
     "text": [
      "Collecting gitpython\n",
      "  Obtaining dependency information for gitpython from https://files.pythonhosted.org/packages/67/50/742c2fb60989b76ccf7302c7b1d9e26505d7054c24f08cc7ec187faaaea7/GitPython-3.1.32-py3-none-any.whl.metadata\n",
      "  Downloading GitPython-3.1.32-py3-none-any.whl.metadata (10.0 kB)\n",
      "Collecting gitdb<5,>=4.0.1 (from gitpython)\n",
      "  Downloading gitdb-4.0.10-py3-none-any.whl (62 kB)\n",
      "\u001b[2K     \u001b[90m━━━━━━━━━━━━━━━━━━━━━━━━━━━━━━━━━━━━━━━\u001b[0m \u001b[32m62.7/62.7 kB\u001b[0m \u001b[31m357.0 kB/s\u001b[0m eta \u001b[36m0:00:00\u001b[0ma \u001b[36m0:00:01\u001b[0m\n",
      "\u001b[?25hCollecting smmap<6,>=3.0.1 (from gitdb<5,>=4.0.1->gitpython)\n",
      "  Downloading smmap-5.0.0-py3-none-any.whl (24 kB)\n",
      "Downloading GitPython-3.1.32-py3-none-any.whl (188 kB)\n",
      "\u001b[2K   \u001b[90m━━━━━━━━━━━━━━━━━━━━━━━━━━━━━━━━━━━━━━━\u001b[0m \u001b[32m188.5/188.5 kB\u001b[0m \u001b[31m306.8 kB/s\u001b[0m eta \u001b[36m0:00:00\u001b[0m00:01\u001b[0m00:01\u001b[0m\n",
      "\u001b[?25hInstalling collected packages: smmap, gitdb, gitpython\n",
      "Successfully installed gitdb-4.0.10 gitpython-3.1.32 smmap-5.0.0\n"
     ]
    }
   ],
   "source": [
    "!pip install gitpython\n",
    "\n",
    "\n"
   ]
  },
  {
   "cell_type": "code",
   "execution_count": 4,
   "metadata": {},
   "outputs": [],
   "source": [
    "from git import Repo\n"
   ]
  },
  {
   "cell_type": "code",
   "execution_count": null,
   "metadata": {},
   "outputs": [],
   "source": [
    "def push_to_github():\n",
    "    # Replace with your repository's URL and local path\n",
    "    repo_url = \"https://github.com/yourusername/your-repo.git\"\n",
    "    repo_path = \"/path/to/your/repo\"\n",
    "    commit_message = \"Regular data update\"\n",
    "    \n",
    "    repo = Repo(repo_path)\n",
    "    \n",
    "    # Stage all changes\n",
    "    repo.git.add(\".\")\n",
    "    \n",
    "    # Commit changes\n",
    "    repo.index.commit(commit_message)\n",
    "    \n",
    "    # Push to the remote repository (origin)\n",
    "    origin = repo.remote(name=\"origin\")\n",
    "    origin.push()\n",
    "\n",
    "if __name__ == \"__main__\":\n",
    "    push_to_github()\n"
   ]
  }
 ],
 "metadata": {
  "kernelspec": {
   "display_name": "mp360_bq",
   "language": "python",
   "name": "python3"
  },
  "language_info": {
   "codemirror_mode": {
    "name": "ipython",
    "version": 3
   },
   "file_extension": ".py",
   "mimetype": "text/x-python",
   "name": "python",
   "nbconvert_exporter": "python",
   "pygments_lexer": "ipython3",
   "version": "3.9.17"
  },
  "orig_nbformat": 4
 },
 "nbformat": 4,
 "nbformat_minor": 2
}
